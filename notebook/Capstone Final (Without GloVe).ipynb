{
 "cells": [
  {
   "cell_type": "markdown",
   "metadata": {
    "id": "SjvKTKB85lhR"
   },
   "source": [
    "### Libraries"
   ]
  },
  {
   "cell_type": "code",
   "execution_count": 4,
   "metadata": {
    "executionInfo": {
     "elapsed": 52251,
     "status": "ok",
     "timestamp": 1606790018826,
     "user": {
      "displayName": "Abhishek Singla",
      "photoUrl": "https://lh3.googleusercontent.com/a-/AOh14GhVGoCwtC_Q8CcnEMN0jHcbx83bPbBDKtuj-9NHvHM=s64",
      "userId": "16778041078956620284"
     },
     "user_tz": 300
    },
    "id": "0iaOAyfhlC2t"
   },
   "outputs": [],
   "source": [
    "import tensorflow as tf\n",
    "import matplotlib.pyplot as plt\n",
    "import matplotlib.ticker as ticker\n",
    "from sklearn.model_selection import train_test_split\n",
    "import unicodedata\n",
    "import re\n",
    "import numpy as np\n",
    "import os\n",
    "import io\n",
    "import time\n",
    "import json\n",
    "import math\n",
    "\n",
    "# Spelling Correction Library\n",
    "from symspellpy import SymSpell \n",
    "\n",
    "# Library to create a dictionary with word and its freq in the given text\n",
    "from collections import Counter\n",
    "\n",
    "# Library to handle expand contracted words based on the context.\n",
    "import contractions\n"
   ]
  },
  {
   "cell_type": "markdown",
   "metadata": {
    "id": "819UsJ2Ylg8P"
   },
   "source": [
    "### Importing Data"
   ]
  },
  {
   "cell_type": "code",
   "execution_count": 5,
   "metadata": {
    "executionInfo": {
     "elapsed": 48123,
     "status": "ok",
     "timestamp": 1606790018828,
     "user": {
      "displayName": "Abhishek Singla",
      "photoUrl": "https://lh3.googleusercontent.com/a-/AOh14GhVGoCwtC_Q8CcnEMN0jHcbx83bPbBDKtuj-9NHvHM=s64",
      "userId": "16778041078956620284"
     },
     "user_tz": 300
    },
    "id": "zm1dpiDX5pWw"
   },
   "outputs": [],
   "source": [
    "def data_import(file='train.json', max_length=200):\n",
    "  with open(file, 'r') as f:\n",
    "      split_data = json.load(f)\n",
    "      \n",
    "\n",
    "  query = []\n",
    "  utterance = []\n",
    "\n",
    "  for i in split_data:\n",
    "      if len(i['interaction'])==0:\n",
    "          q = i['final']['query']\n",
    "          u = i['final']['utterance']\n",
    "      else:\n",
    "          q = i['interaction'][0]['query']\n",
    "          u = i['interaction'][0]['utterance']\n",
    "      \n",
    "      if len(q)<=200:\n",
    "        query.append(q)\n",
    "        utterance.append(u)  \n",
    "  \n",
    "  return query, utterance"
   ]
  },
  {
   "cell_type": "markdown",
   "metadata": {
    "id": "hfrAGocFll2J"
   },
   "source": [
    "### Data Cleaning and Preprocessing"
   ]
  },
  {
   "cell_type": "code",
   "execution_count": 8,
   "metadata": {
    "executionInfo": {
     "elapsed": 449,
     "status": "ok",
     "timestamp": 1606790427784,
     "user": {
      "displayName": "Abhishek Singla",
      "photoUrl": "https://lh3.googleusercontent.com/a-/AOh14GhVGoCwtC_Q8CcnEMN0jHcbx83bPbBDKtuj-9NHvHM=s64",
      "userId": "16778041078956620284"
     },
     "user_tz": 300
    },
    "id": "Zzk27B1g6MbO"
   },
   "outputs": [],
   "source": [
    "# Converts the unicode file to ascii\n",
    "def unicode_to_ascii(s):\n",
    "  return ''.join(c for c in unicodedata.normalize('NFD', s)\n",
    "      if unicodedata.category(c) != 'Mn')\n",
    "\n",
    "def preprocess_sentence(w):\n",
    "  w = unicode_to_ascii(w.lower().strip())\n",
    "\n",
    "  # creating a space between a word and the punctuation following it\n",
    "  # eg: \"he is a boy.\" => \"he is a boy .\"\n",
    "  w = re.sub(r\"([^A-z0-9 ])\", r\" \\1 \", w)\n",
    "  w = re.sub(r'[\" \"]+', \" \", w)\n",
    "\n",
    "\n",
    "  w = w.strip()\n",
    "\n",
    "  # adding contractions\n",
    "  w = contractions.fix(w)\n",
    "\n",
    "  # adding a start and an end token to the sentence\n",
    "  # so that the model know when to start and stop predicting.\n",
    "  w = '<start> ' + w + ' <end>'\n",
    "  return w\n",
    "\n",
    "\n",
    "def create_dataset(path, num_examples, show_example=False):\n",
    "  lines = path\n",
    "  word_pairs = []\n",
    "  for l in lines:\n",
    "    word =preprocess_sentence(l)\n",
    "    word_pairs.append(word)\n",
    "  #word_pairs = preprocess_sentence(lines)\n",
    "  \n",
    "  if show_example:\n",
    "    print(word_pairs[0])\n",
    "  return  word_pairs"
   ]
  },
  {
   "cell_type": "markdown",
   "metadata": {
    "id": "Xxd5WITdnVwP"
   },
   "source": [
    "#### Spell checker"
   ]
  },
  {
   "cell_type": "code",
   "execution_count": 9,
   "metadata": {
    "executionInfo": {
     "elapsed": 340,
     "status": "ok",
     "timestamp": 1606790430486,
     "user": {
      "displayName": "Abhishek Singla",
      "photoUrl": "https://lh3.googleusercontent.com/a-/AOh14GhVGoCwtC_Q8CcnEMN0jHcbx83bPbBDKtuj-9NHvHM=s64",
      "userId": "16778041078956620284"
     },
     "user_tz": 300
    },
    "id": "O2QonR3lyEHW"
   },
   "outputs": [],
   "source": [
    "def creating_vocab(data_list):\n",
    "  corpus = []\n",
    "  for data in data_list:\n",
    "    for sentence in data:\n",
    "      tokens = sentence.split()\n",
    "      corpus.extend(tokens)\n",
    "  \n",
    "  corpus = Counter(corpus)\n",
    "  with open('dictionary.txt', 'w') as f:\n",
    "    for k, v in corpus.items():\n",
    "      f.write(f\"{k} {v}\\n\")\n",
    "    \n",
    "def spell_checker(inputTerm, path = './dictionary.txt'):\n",
    "  symspell = SymSpell()\n",
    "  symspell.load_dictionary(path, term_index=0, count_index=1)\n",
    "  maxEditDistance = 2\n",
    "  # ignore_non_words = True means if a particular word is not present then\n",
    "  # we'll return as is.\n",
    "  correct_sent = []\n",
    "  for i in inputTerm.split():\n",
    "    if i.isalnum():\n",
    "      suggestion = symspell.lookup_compound(i, maxEditDistance, ignore_non_words=True)\n",
    "      suggestion = str(suggestion[0]).split(',')[0].strip()\n",
    "    else:\n",
    "      suggestion = i.strip()  \n",
    "    correct_sent.append(suggestion)\n",
    "  \n",
    "  return \" \".join(correct_sent)"
   ]
  },
  {
   "cell_type": "markdown",
   "metadata": {
    "id": "02V3lr9C7PVx"
   },
   "source": [
    "### Tokenization and Word Embeddings"
   ]
  },
  {
   "cell_type": "code",
   "execution_count": 10,
   "metadata": {
    "executionInfo": {
     "elapsed": 415,
     "status": "ok",
     "timestamp": 1606790431762,
     "user": {
      "displayName": "Abhishek Singla",
      "photoUrl": "https://lh3.googleusercontent.com/a-/AOh14GhVGoCwtC_Q8CcnEMN0jHcbx83bPbBDKtuj-9NHvHM=s64",
      "userId": "16778041078956620284"
     },
     "user_tz": 300
    },
    "id": "jM1oIAwL_QwP"
   },
   "outputs": [],
   "source": [
    "def tokenize(lang):\n",
    "  lang_tokenizer = tf.keras.preprocessing.text.Tokenizer(\n",
    "      filters='',oov_token=\"<unk>\")\n",
    "  lang_tokenizer.fit_on_texts(lang)\n",
    "  \n",
    "  tensor = lang_tokenizer.texts_to_sequences(lang)\n",
    "\n",
    "  tensor = tf.keras.preprocessing.sequence.pad_sequences(tensor,\n",
    "                                                         padding='post')\n",
    "\n",
    "  return tensor, lang_tokenizer\n"
   ]
  },
  {
   "cell_type": "code",
   "execution_count": 11,
   "metadata": {
    "executionInfo": {
     "elapsed": 695,
     "status": "ok",
     "timestamp": 1606790434175,
     "user": {
      "displayName": "Abhishek Singla",
      "photoUrl": "https://lh3.googleusercontent.com/a-/AOh14GhVGoCwtC_Q8CcnEMN0jHcbx83bPbBDKtuj-9NHvHM=s64",
      "userId": "16778041078956620284"
     },
     "user_tz": 300
    },
    "id": "7Haj57bPo4Z_"
   },
   "outputs": [],
   "source": [
    "def convert(lang, tensor):\n",
    "  for t in tensor:\n",
    "    if t!=0:\n",
    "      print (\"%d ----> %s\" % (t, lang.index_word[t]))"
   ]
  },
  {
   "cell_type": "markdown",
   "metadata": {
    "id": "haBLAklNr1VY"
   },
   "source": [
    "### Encoder-Decoder NMT Model with Attention "
   ]
  },
  {
   "cell_type": "code",
   "execution_count": 12,
   "metadata": {
    "executionInfo": {
     "elapsed": 542,
     "status": "ok",
     "timestamp": 1606790434865,
     "user": {
      "displayName": "Abhishek Singla",
      "photoUrl": "https://lh3.googleusercontent.com/a-/AOh14GhVGoCwtC_Q8CcnEMN0jHcbx83bPbBDKtuj-9NHvHM=s64",
      "userId": "16778041078956620284"
     },
     "user_tz": 300
    },
    "id": "UN1U_rS2F9F2"
   },
   "outputs": [],
   "source": [
    "class Encoder(tf.keras.Model):\n",
    "  def __init__(self, vocab_size, embedding_dim, enc_units, batch_sz, emb_type='default', emb_mat=[]):\n",
    "    super(Encoder, self).__init__()\n",
    "    self.batch_sz = batch_sz\n",
    "    self.enc_units = enc_units\n",
    "    if emb_type == 'glove':\n",
    "      self.embedding = tf.keras.layers.Embedding(vocab_size, embedding_dim, weights=[emb_mat])\n",
    "    else:\n",
    "      self.embedding = tf.keras.layers.Embedding(vocab_size, embedding_dim)\n",
    "      \n",
    "    self.gru = tf.keras.layers.GRU(self.enc_units,\n",
    "                                   return_sequences=True,\n",
    "                                   return_state=True,\n",
    "                                   recurrent_initializer='glorot_uniform')\n",
    "\n",
    "  def call(self, x, hidden):\n",
    "    x = self.embedding(x)\n",
    "    output, state = self.gru(x, initial_state = hidden)\n",
    "    return output, state\n",
    "\n",
    "  def initialize_hidden_state(self):\n",
    "    return tf.zeros((self.batch_sz, self.enc_units))"
   ]
  },
  {
   "cell_type": "code",
   "execution_count": 13,
   "metadata": {
    "executionInfo": {
     "elapsed": 256,
     "status": "ok",
     "timestamp": 1606790435020,
     "user": {
      "displayName": "Abhishek Singla",
      "photoUrl": "https://lh3.googleusercontent.com/a-/AOh14GhVGoCwtC_Q8CcnEMN0jHcbx83bPbBDKtuj-9NHvHM=s64",
      "userId": "16778041078956620284"
     },
     "user_tz": 300
    },
    "id": "OqwHRMGzGExR"
   },
   "outputs": [],
   "source": [
    "class BahdanauAttention(tf.keras.layers.Layer):\n",
    "  def __init__(self, units):\n",
    "    super(BahdanauAttention, self).__init__()\n",
    "    self.W1 = tf.keras.layers.Dense(units)\n",
    "    self.W2 = tf.keras.layers.Dense(units)\n",
    "    self.V = tf.keras.layers.Dense(1)\n",
    "\n",
    "  def call(self, query, values):\n",
    "    # query hidden state shape == (batch_size, hidden size)\n",
    "    # query_with_time_axis shape == (batch_size, 1, hidden size)\n",
    "    # values shape == (batch_size, max_len, hidden size)\n",
    "    # we are doing this to broadcast addition along the time axis to calculate the score\n",
    "    query_with_time_axis = tf.expand_dims(query, 1)\n",
    "\n",
    "    # score shape == (batch_size, max_length, 1)\n",
    "    # we get 1 at the last axis because we are applying score to self.V\n",
    "    # the shape of the tensor before applying self.V is (batch_size, max_length, units)\n",
    "    score = self.V(tf.nn.tanh(\n",
    "        self.W1(query_with_time_axis) + self.W2(values)))\n",
    "\n",
    "    # attention_weights shape == (batch_size, max_length, 1)\n",
    "    attention_weights = tf.nn.softmax(score, axis=1)\n",
    "\n",
    "    # context_vector shape after sum == (batch_size, hidden_size)\n",
    "    context_vector = attention_weights * values\n",
    "    context_vector = tf.reduce_sum(context_vector, axis=1)\n",
    "\n",
    "    return context_vector, attention_weights"
   ]
  },
  {
   "cell_type": "code",
   "execution_count": 14,
   "metadata": {
    "executionInfo": {
     "elapsed": 482,
     "status": "ok",
     "timestamp": 1606790436930,
     "user": {
      "displayName": "Abhishek Singla",
      "photoUrl": "https://lh3.googleusercontent.com/a-/AOh14GhVGoCwtC_Q8CcnEMN0jHcbx83bPbBDKtuj-9NHvHM=s64",
      "userId": "16778041078956620284"
     },
     "user_tz": 300
    },
    "id": "AupXrg9oGNnb"
   },
   "outputs": [],
   "source": [
    "class Decoder(tf.keras.Model):\n",
    "  def __init__(self, vocab_size, embedding_dim, dec_units, batch_sz, emb_type='default', emb_mat=[]):\n",
    "    super(Decoder, self).__init__()\n",
    "    self.batch_sz = batch_sz\n",
    "    self.dec_units = dec_units\n",
    "\n",
    "    if emb_type == 'glove':\n",
    "      self.embedding = tf.keras.layers.Embedding(vocab_size, embedding_dim, weights=[emb_mat])\n",
    "    else:\n",
    "      self.embedding = tf.keras.layers.Embedding(vocab_size, embedding_dim)\n",
    "      \n",
    "    self.gru = tf.keras.layers.GRU(self.dec_units,\n",
    "                                   return_sequences=True,\n",
    "                                   return_state=True,\n",
    "                                   recurrent_initializer='glorot_uniform')\n",
    "    self.fc = tf.keras.layers.Dense(vocab_size)\n",
    "\n",
    "    # used for attention\n",
    "    self.attention = BahdanauAttention(self.dec_units)\n",
    "\n",
    "  def call(self, x, hidden, enc_output):\n",
    "    # enc_output shape == (batch_size, max_length, hidden_size)\n",
    "    context_vector, attention_weights = self.attention(hidden, enc_output)\n",
    "\n",
    "    # x shape after passing through embedding == (batch_size, 1, embedding_dim)\n",
    "    x = self.embedding(x)\n",
    "\n",
    "    # x shape after concatenation == (batch_size, 1, embedding_dim + hidden_size) \n",
    "    x = tf.concat([tf.expand_dims(context_vector, 1), x], axis=-1)\n",
    "\n",
    "    # passing the concatenated vector to the GRU\n",
    "    output, state = self.gru(x)\n",
    "\n",
    "    # output shape == (batch_size * 1, hidden_size)\n",
    "    output = tf.reshape(output, (-1, output.shape[2]))\n",
    "\n",
    "    # output shape == (batch_size, vocab)\n",
    "    x = self.fc(output)\n",
    "\n",
    "    return x, state, attention_weights"
   ]
  },
  {
   "cell_type": "markdown",
   "metadata": {
    "id": "V0Lt0c2DzOUs"
   },
   "source": [
    "### Main Function "
   ]
  },
  {
   "cell_type": "code",
   "execution_count": 15,
   "metadata": {
    "colab": {
     "base_uri": "https://localhost:8080/"
    },
    "executionInfo": {
     "elapsed": 7969,
     "status": "ok",
     "timestamp": 1606790447766,
     "user": {
      "displayName": "Abhishek Singla",
      "photoUrl": "https://lh3.googleusercontent.com/a-/AOh14GhVGoCwtC_Q8CcnEMN0jHcbx83bPbBDKtuj-9NHvHM=s64",
      "userId": "16778041078956620284"
     },
     "user_tz": 300
    },
    "id": "CfLXBcYTGTMG",
    "outputId": "fe65cbb2-5d15-44e8-b2e0-12f388d79ada"
   },
   "outputs": [
    {
     "name": "stdout",
     "output_type": "stream",
     "text": [
      "---Data after preprocessing and cleaning---\n",
      "<start> what is the number of employees in each department ? <end>\n",
      "<start> select count ( departmentid ) from department group by departmentid <end>\n",
      "\n",
      "Spell Checker:\n",
      "Before: what is the number ofeemployees in each department ?\n",
      "After: what is the number of employees in each department ? \n",
      "\n",
      "\n",
      "---Data after Train-Test Split---\n",
      "Train-Input, Train-Target, Val-Input, Val-Target\n",
      "2408 2408 603 603\n",
      "\n",
      "Input Language; index to word mapping\n",
      "2 ----> <start>\n",
      "11 ----> show\n",
      "107 ----> info\n",
      "16 ----> for\n",
      "7 ----> all\n",
      "528 ----> activities\n",
      "6 ----> .\n",
      "3 ----> <end>\n",
      "\n",
      "Target Language; index to word mapping\n",
      "4 ----> <start>\n",
      "2 ----> select\n",
      "10 ----> *\n",
      "3 ----> from\n",
      "394 ----> activity\n",
      "5 ----> <end>\n"
     ]
    }
   ],
   "source": [
    "# Setting OS Path to data folder\n",
    "os.chdir('../data/')\n",
    "\n",
    "# Data Import\n",
    "query, utterance = data_import('train.json')\n",
    "\n",
    "# Variables\n",
    "embedding_dim = 50\n",
    "# glove_file_name = 'glove.6B.50d.txt'\n",
    "# We can use either glove.6B.50d.txt or glove.840B.300d.txt\n",
    "\n",
    "# Calling data cleaning and processing function\n",
    "print('---Data after preprocessing and cleaning---')\n",
    "en = create_dataset(utterance, None, show_example=True)\n",
    "sql = create_dataset(query, None, show_example=True)\n",
    "\n",
    "# Creating a spell checker based on given data to correct the input at \n",
    "# inference time\n",
    "creating_vocab([en, sql])\n",
    "example_sent = 'what is the number ofeemployees in each department ?'\n",
    "print(f'\\nSpell Checker:\\nBefore: {example_sent}')\n",
    "print(f'After: {spell_checker(example_sent)} \\n')\n",
    "\n",
    "# Tokenization\n",
    "targ_lang, inp_lang = sql, en\n",
    "input_tensor, inp_lang_tokenizer = tokenize(inp_lang)\n",
    "target_tensor, targ_lang_tokenizer = tokenize(targ_lang)\n",
    "\n",
    "# Calculate max_length of the target tensors\n",
    "max_length_targ, max_length_inp = target_tensor.shape[1], input_tensor.shape[1]\n",
    "\n",
    "# Creating training and validation sets using an 80-20 split\n",
    "input_tensor_train, input_tensor_val, target_tensor_train, target_tensor_val = train_test_split(input_tensor, target_tensor, test_size=0.2)\n",
    "\n",
    "# Show length\n",
    "print('\\n---Data after Train-Test Split---')\n",
    "print('Train-Input, Train-Target, Val-Input, Val-Target')\n",
    "print(len(input_tensor_train), len(target_tensor_train), len(input_tensor_val), len(target_tensor_val))\n",
    "\n",
    "inp_lang = inp_lang_tokenizer\n",
    "targ_lang = targ_lang_tokenizer\n",
    "\n",
    "# Showing Mapping between words and indices\n",
    "print (\"\\nInput Language; index to word mapping\")\n",
    "convert(inp_lang_tokenizer, input_tensor_train[0])\n",
    "print ()\n",
    "print (\"Target Language; index to word mapping\")\n",
    "convert(targ_lang_tokenizer, target_tensor_train[0])"
   ]
  },
  {
   "cell_type": "code",
   "execution_count": 16,
   "metadata": {
    "colab": {
     "base_uri": "https://localhost:8080/"
    },
    "executionInfo": {
     "elapsed": 12673,
     "status": "ok",
     "timestamp": 1606790454566,
     "user": {
      "displayName": "Abhishek Singla",
      "photoUrl": "https://lh3.googleusercontent.com/a-/AOh14GhVGoCwtC_Q8CcnEMN0jHcbx83bPbBDKtuj-9NHvHM=s64",
      "userId": "16778041078956620284"
     },
     "user_tz": 300
    },
    "id": "6Utgxj3esYgi",
    "outputId": "34a5cbca-1f8f-402b-f46f-b7b601655c6f"
   },
   "outputs": [
    {
     "name": "stdout",
     "output_type": "stream",
     "text": [
      "(32, 28) (32, 51)\n",
      "Encoder output shape: (batch size, sequence length, units) (32, 28, 1024)\n",
      "Encoder Hidden state shape: (batch size, units) (32, 1024)\n",
      "Attention result shape: (batch size, units) (32, 1024)\n",
      "Attention weights shape: (batch_size, sequence_length, 1) (32, 28, 1)\n",
      "Decoder output shape: (batch_size, vocab size) (32, 1855)\n"
     ]
    }
   ],
   "source": [
    "# Defining Variables for Modelling\n",
    "BUFFER_SIZE = len(input_tensor_train)\n",
    "BATCH_SIZE = 32\n",
    "steps_per_epoch = len(input_tensor_train)//BATCH_SIZE\n",
    "steps_per_epoch_val = len(input_tensor_val)//BATCH_SIZE\n",
    "units = 1024\n",
    "vocab_inp_size = len(inp_lang_tokenizer.word_index)+1\n",
    "vocab_tar_size = len(targ_lang_tokenizer.word_index)+1\n",
    "\n",
    "dataset = tf.data.Dataset.from_tensor_slices((input_tensor_train, target_tensor_train)).shuffle(BUFFER_SIZE)\n",
    "dataset = dataset.batch(BATCH_SIZE, drop_remainder=True)\n",
    "\n",
    "dataset_val = tf.data.Dataset.from_tensor_slices((input_tensor_val, target_tensor_val)).shuffle(BUFFER_SIZE)\n",
    "dataset_val = dataset_val.batch(BATCH_SIZE, drop_remainder=True)\n",
    "\n",
    "example_input_batch, example_target_batch = next(iter(dataset))\n",
    "print(example_input_batch.shape, example_target_batch.shape)\n",
    "\n",
    "# Encoder\n",
    "encoder = Encoder(vocab_inp_size, embedding_dim, units, BATCH_SIZE)\n",
    "\n",
    "# sample input\n",
    "sample_hidden = encoder.initialize_hidden_state()\n",
    "sample_output, sample_hidden = encoder(example_input_batch, sample_hidden)\n",
    "print ('Encoder output shape: (batch size, sequence length, units) {}'.format(sample_output.shape))\n",
    "print ('Encoder Hidden state shape: (batch size, units) {}'.format(sample_hidden.shape))\n",
    "\n",
    "# Attention Layer\n",
    "attention_layer = BahdanauAttention(10)\n",
    "attention_result, attention_weights = attention_layer(sample_hidden, sample_output)\n",
    "\n",
    "print(\"Attention result shape: (batch size, units) {}\".format(attention_result.shape))\n",
    "print(\"Attention weights shape: (batch_size, sequence_length, 1) {}\".format(attention_weights.shape))\n",
    "\n",
    "# Decoder\n",
    "decoder = Decoder(vocab_tar_size, embedding_dim, units, BATCH_SIZE)\n",
    "\n",
    "sample_decoder_output, _, _ = decoder(tf.random.uniform((BATCH_SIZE, 1)),\n",
    "                                      sample_hidden, sample_output)\n",
    "\n",
    "print ('Decoder output shape: (batch_size, vocab size) {}'.format(sample_decoder_output.shape))\n",
    "\n"
   ]
  },
  {
   "cell_type": "markdown",
   "metadata": {
    "id": "5hw1JFmftSwr"
   },
   "source": [
    "### Optimizer and Loss Function"
   ]
  },
  {
   "cell_type": "code",
   "execution_count": 17,
   "metadata": {
    "executionInfo": {
     "elapsed": 9725,
     "status": "ok",
     "timestamp": 1606790454567,
     "user": {
      "displayName": "Abhishek Singla",
      "photoUrl": "https://lh3.googleusercontent.com/a-/AOh14GhVGoCwtC_Q8CcnEMN0jHcbx83bPbBDKtuj-9NHvHM=s64",
      "userId": "16778041078956620284"
     },
     "user_tz": 300
    },
    "id": "WlR5SfhUGVW7"
   },
   "outputs": [],
   "source": [
    "optimizer = tf.keras.optimizers.Adam()\n",
    "loss_object = tf.keras.losses.SparseCategoricalCrossentropy(\n",
    "    from_logits=True, reduction='none')\n",
    "\n",
    "def loss_function(real, pred):\n",
    "  mask = tf.math.logical_not(tf.math.equal(real, 0))\n",
    "  loss_ = loss_object(real, pred)\n",
    "\n",
    "  mask = tf.cast(mask, dtype=loss_.dtype)\n",
    "  loss_ *= mask\n",
    "\n",
    "  return tf.reduce_mean(loss_)"
   ]
  },
  {
   "cell_type": "markdown",
   "metadata": {
    "id": "Sn3DLOLOtX-c"
   },
   "source": [
    "#### Storing checkpoints"
   ]
  },
  {
   "cell_type": "code",
   "execution_count": 18,
   "metadata": {
    "executionInfo": {
     "elapsed": 5837,
     "status": "ok",
     "timestamp": 1606790454568,
     "user": {
      "displayName": "Abhishek Singla",
      "photoUrl": "https://lh3.googleusercontent.com/a-/AOh14GhVGoCwtC_Q8CcnEMN0jHcbx83bPbBDKtuj-9NHvHM=s64",
      "userId": "16778041078956620284"
     },
     "user_tz": 300
    },
    "id": "lR6c-iSVGX9i"
   },
   "outputs": [],
   "source": [
    "checkpoint_dir = '../training_checkpoints'\n",
    "checkpoint_prefix = os.path.join(checkpoint_dir, \"ckpt\")\n",
    "checkpoint = tf.train.Checkpoint(optimizer=optimizer,\n",
    "                                 encoder=encoder,\n",
    "                                 decoder=decoder)"
   ]
  },
  {
   "cell_type": "markdown",
   "metadata": {
    "id": "WgcRdjE7td7-"
   },
   "source": [
    "### Model Training"
   ]
  },
  {
   "cell_type": "code",
   "execution_count": 19,
   "metadata": {
    "executionInfo": {
     "elapsed": 3552,
     "status": "ok",
     "timestamp": 1606790454569,
     "user": {
      "displayName": "Abhishek Singla",
      "photoUrl": "https://lh3.googleusercontent.com/a-/AOh14GhVGoCwtC_Q8CcnEMN0jHcbx83bPbBDKtuj-9NHvHM=s64",
      "userId": "16778041078956620284"
     },
     "user_tz": 300
    },
    "id": "8bsgszMJGaF0"
   },
   "outputs": [],
   "source": [
    "@tf.function\n",
    "def train_step(inp, targ, enc_hidden):\n",
    "  loss = 0\n",
    "\n",
    "  with tf.GradientTape() as tape:\n",
    "    enc_output, enc_hidden = encoder(inp, enc_hidden)\n",
    "\n",
    "    dec_hidden = enc_hidden\n",
    "\n",
    "    dec_input = tf.expand_dims([targ_lang.word_index['<start>']] * BATCH_SIZE, 1)\n",
    "\n",
    "    # Teacher forcing - feeding the target as the next input\n",
    "    for t in range(1, targ.shape[1]):\n",
    "      # passing enc_output to the decoder\n",
    "      predictions, dec_hidden, _ = decoder(dec_input, dec_hidden, enc_output)\n",
    "\n",
    "      loss += loss_function(targ[:, t], predictions)\n",
    "\n",
    "      # using teacher forcing\n",
    "      dec_input = tf.expand_dims(targ[:, t], 1)\n",
    "\n",
    "  batch_loss = (loss / int(targ.shape[1])) \n",
    "\n",
    "  variables = encoder.trainable_variables + decoder.trainable_variables\n",
    "\n",
    "  gradients = tape.gradient(loss, variables)\n",
    "\n",
    "  optimizer.apply_gradients(zip(gradients, variables))\n",
    "\n",
    "  return batch_loss\n",
    "\n",
    "def val_step(inp, targ, enc_hidden):\n",
    "  loss = 0\n",
    "\n",
    "  enc_output, enc_hidden = encoder(inp, enc_hidden)\n",
    "\n",
    "  dec_hidden = enc_hidden\n",
    "\n",
    "  dec_input = tf.expand_dims([targ_lang.word_index['<start>']] * BATCH_SIZE, 1)\n",
    "\n",
    "  # Teacher forcing - feeding the target as the next input\n",
    "  for t in range(1, targ.shape[1]):\n",
    "    # passing enc_output to the decoder\n",
    "    predictions, dec_hidden, _ = decoder(dec_input, dec_hidden, enc_output)\n",
    "\n",
    "    loss += loss_function(targ[:, t], predictions)\n",
    "\n",
    "    # using teacher forcing\n",
    "    dec_input = tf.expand_dims(targ[:, t], 1) \n",
    "\n",
    "  batch_loss = (loss / int(targ.shape[1])) \n",
    "\n",
    "\n",
    "  return batch_loss"
   ]
  },
  {
   "cell_type": "code",
   "execution_count": 20,
   "metadata": {
    "colab": {
     "base_uri": "https://localhost:8080/"
    },
    "executionInfo": {
     "elapsed": 838564,
     "status": "ok",
     "timestamp": 1606791294201,
     "user": {
      "displayName": "Abhishek Singla",
      "photoUrl": "https://lh3.googleusercontent.com/a-/AOh14GhVGoCwtC_Q8CcnEMN0jHcbx83bPbBDKtuj-9NHvHM=s64",
      "userId": "16778041078956620284"
     },
     "user_tz": 300
    },
    "id": "U3RzIuLiGp5m",
    "outputId": "0641d345-81de-446c-900d-84e16c342897"
   },
   "outputs": [
    {
     "name": "stdout",
     "output_type": "stream",
     "text": [
      "Epoch 1 Train Loss 1.0274 Val Loss 0.8506\n",
      "Time taken for 1 epoch 72.64982771873474 sec\n",
      "\n",
      "Epoch 2 Train Loss 0.7376 Val Loss 0.6714\n",
      "Time taken for 1 epoch 26.39044761657715 sec\n",
      "\n",
      "Epoch 3 Train Loss 0.6086 Val Loss 0.5913\n",
      "Time taken for 1 epoch 25.142155170440674 sec\n",
      "\n",
      "Epoch 4 Train Loss 0.5385 Val Loss 0.5508\n",
      "Time taken for 1 epoch 26.589497804641724 sec\n",
      "\n",
      "Epoch 5 Train Loss 0.4974 Val Loss 0.5253\n",
      "Time taken for 1 epoch 25.681341886520386 sec\n",
      "\n",
      "Epoch 6 Train Loss 0.4653 Val Loss 0.5102\n",
      "Time taken for 1 epoch 26.936709880828857 sec\n",
      "\n",
      "Epoch 7 Train Loss 0.4388 Val Loss 0.4925\n",
      "Time taken for 1 epoch 25.958912134170532 sec\n",
      "\n",
      "Epoch 8 Train Loss 0.4135 Val Loss 0.4898\n",
      "Time taken for 1 epoch 27.16251516342163 sec\n",
      "\n",
      "Epoch 9 Train Loss 0.3938 Val Loss 0.4689\n",
      "Time taken for 1 epoch 26.30979633331299 sec\n",
      "\n",
      "Epoch 10 Train Loss 0.3742 Val Loss 0.4612\n",
      "Time taken for 1 epoch 26.844789743423462 sec\n",
      "\n",
      "Epoch 11 Train Loss 0.3536 Val Loss 0.4635\n",
      "Time taken for 1 epoch 25.88298797607422 sec\n",
      "\n",
      "Epoch 12 Train Loss 0.3341 Val Loss 0.4674\n",
      "Time taken for 1 epoch 27.055721759796143 sec\n",
      "\n",
      "Epoch 13 Train Loss 0.3138 Val Loss 0.4577\n",
      "Time taken for 1 epoch 26.048943042755127 sec\n",
      "\n",
      "Epoch 14 Train Loss 0.2904 Val Loss 0.4520\n",
      "Time taken for 1 epoch 27.010228633880615 sec\n",
      "\n",
      "Epoch 15 Train Loss 0.2681 Val Loss 0.4470\n",
      "Time taken for 1 epoch 26.10624122619629 sec\n",
      "\n",
      "Epoch 16 Train Loss 0.2471 Val Loss 0.4633\n",
      "Time taken for 1 epoch 26.827009439468384 sec\n",
      "\n",
      "Epoch 17 Train Loss 0.2264 Val Loss 0.4450\n",
      "Time taken for 1 epoch 26.129147052764893 sec\n",
      "\n",
      "Epoch 18 Train Loss 0.2049 Val Loss 0.4588\n",
      "Time taken for 1 epoch 26.918514013290405 sec\n",
      "\n",
      "Epoch 19 Train Loss 0.1833 Val Loss 0.4492\n",
      "Time taken for 1 epoch 26.00114917755127 sec\n",
      "\n",
      "Epoch 20 Train Loss 0.1614 Val Loss 0.4529\n",
      "Time taken for 1 epoch 26.978618383407593 sec\n",
      "\n",
      "Epoch 21 Train Loss 0.1427 Val Loss 0.4609\n",
      "Time taken for 1 epoch 25.825273752212524 sec\n",
      "\n",
      "Epoch 22 Train Loss 0.1287 Val Loss 0.4720\n",
      "Time taken for 1 epoch 26.741610527038574 sec\n",
      "\n",
      "Epoch 23 Train Loss 0.1121 Val Loss 0.4856\n",
      "Time taken for 1 epoch 25.71317481994629 sec\n",
      "\n",
      "Epoch 24 Train Loss 0.0966 Val Loss 0.4739\n",
      "Time taken for 1 epoch 27.089038610458374 sec\n",
      "\n",
      "Epoch 25 Train Loss 0.0846 Val Loss 0.4791\n",
      "Time taken for 1 epoch 25.958410024642944 sec\n",
      "\n",
      "Epoch 26 Train Loss 0.0760 Val Loss 0.4880\n",
      "Time taken for 1 epoch 26.686248064041138 sec\n",
      "\n",
      "Epoch 27 Train Loss 0.0623 Val Loss 0.5008\n",
      "Time taken for 1 epoch 25.980903148651123 sec\n",
      "\n",
      "Epoch 28 Train Loss 0.0553 Val Loss 0.5118\n",
      "Time taken for 1 epoch 26.72716212272644 sec\n",
      "\n",
      "Epoch 29 Train Loss 0.0495 Val Loss 0.5202\n",
      "Time taken for 1 epoch 25.81290292739868 sec\n",
      "\n",
      "Epoch 30 Train Loss 0.0434 Val Loss 0.5096\n",
      "Time taken for 1 epoch 26.902416944503784 sec\n",
      "\n"
     ]
    }
   ],
   "source": [
    "EPOCHS = 30\n",
    "epoch_train_loss = []\n",
    "epoch_val_loss = []\n",
    "\n",
    "for epoch in range(EPOCHS):\n",
    "  start = time.time()\n",
    "\n",
    "  enc_hidden = encoder.initialize_hidden_state()\n",
    "  total_loss = 0\n",
    "  total_loss_val = 0\n",
    "\n",
    "  for (batch, (inp, targ)) in enumerate(dataset.take(steps_per_epoch)):\n",
    "    batch_loss = train_step(inp, targ, enc_hidden)\n",
    "    total_loss += batch_loss\n",
    "\n",
    "  for (batch, (inp, targ)) in enumerate(dataset_val.take(steps_per_epoch_val)):\n",
    "    batch_loss_val = val_step(inp, targ, enc_hidden)\n",
    "    total_loss_val += batch_loss_val\n",
    "\n",
    "  # saving (checkpoint) the model every 2 epochs\n",
    "  if (epoch + 1) % 2 == 0:\n",
    "    checkpoint.save(file_prefix = checkpoint_prefix)\n",
    "\n",
    "  print('Epoch {} Train Loss {:.4f} Val Loss {:.4f}'.\n",
    "        format(\n",
    "            epoch + 1,\n",
    "            total_loss / steps_per_epoch,\n",
    "            total_loss_val / steps_per_epoch_val))\n",
    "  print('Time taken for 1 epoch {} sec\\n'.format(time.time() - start))\n",
    "\n",
    "  epoch_train_loss.append(total_loss / steps_per_epoch)\n",
    "  epoch_val_loss.append(total_loss_val / steps_per_epoch_val)"
   ]
  },
  {
   "cell_type": "markdown",
   "metadata": {
    "id": "f-gKh2GPO-NZ"
   },
   "source": [
    "### Loading Checkpoints"
   ]
  },
  {
   "cell_type": "code",
   "execution_count": 25,
   "metadata": {
    "colab": {
     "base_uri": "https://localhost:8080/"
    },
    "executionInfo": {
     "elapsed": 739,
     "status": "ok",
     "timestamp": 1606791479093,
     "user": {
      "displayName": "Abhishek Singla",
      "photoUrl": "https://lh3.googleusercontent.com/a-/AOh14GhVGoCwtC_Q8CcnEMN0jHcbx83bPbBDKtuj-9NHvHM=s64",
      "userId": "16778041078956620284"
     },
     "user_tz": 300
    },
    "id": "3o3xriMkPB5V",
    "outputId": "90937e53-67aa-44d7-d1d5-b4ceb34b61e7"
   },
   "outputs": [
    {
     "data": {
      "text/plain": [
       "<tensorflow.python.training.tracking.util.CheckpointLoadStatus at 0x7fdae62c2d30>"
      ]
     },
     "execution_count": 25,
     "metadata": {
      "tags": []
     },
     "output_type": "execute_result"
    }
   ],
   "source": [
    "# restoring the latest checkpoint in checkpoint_dir\n",
    "checkpoint.restore(tf.train.latest_checkpoint(checkpoint_dir))\n"
   ]
  },
  {
   "cell_type": "code",
   "execution_count": 21,
   "metadata": {
    "executionInfo": {
     "elapsed": 382,
     "status": "ok",
     "timestamp": 1606791398575,
     "user": {
      "displayName": "Abhishek Singla",
      "photoUrl": "https://lh3.googleusercontent.com/a-/AOh14GhVGoCwtC_Q8CcnEMN0jHcbx83bPbBDKtuj-9NHvHM=s64",
      "userId": "16778041078956620284"
     },
     "user_tz": 300
    },
    "id": "S2-W1a45GuQI"
   },
   "outputs": [],
   "source": [
    "def evaluate(sentence, preprocess=False):\n",
    "  attention_plot = np.zeros((max_length_targ, max_length_inp))\n",
    "\n",
    "  if preprocess:\n",
    "    sentence = preprocess_sentence(sentence)\n",
    "\n",
    "  inputs = [inp_lang.word_index[i] for i in sentence.split(' ')]\n",
    "  inputs = tf.keras.preprocessing.sequence.pad_sequences([inputs],\n",
    "                                                         maxlen=max_length_inp,\n",
    "                                                         padding='post')\n",
    "  inputs = tf.convert_to_tensor(inputs)\n",
    "\n",
    "  result = []\n",
    "\n",
    "  hidden = [tf.zeros((1, units))]\n",
    "  enc_out, enc_hidden = encoder(inputs, hidden)\n",
    "\n",
    "  dec_hidden = enc_hidden\n",
    "  dec_input = tf.expand_dims([targ_lang.word_index['<start>']], 0)\n",
    "\n",
    "  for t in range(max_length_targ):\n",
    "    predictions, dec_hidden, attention_weights = decoder(dec_input,\n",
    "                                                         dec_hidden,\n",
    "                                                         enc_out)\n",
    "\n",
    "    predicted_id = tf.argmax(predictions[0]).numpy()\n",
    "    if targ_lang.index_word[predicted_id] == '<end>':\n",
    "      return \" \".join(result), sentence, attention_plot    \n",
    "\n",
    "    # storing the attention weights to plot later on\n",
    "    attention_weights = tf.reshape(attention_weights, (-1, ))\n",
    "    attention_plot[t] = attention_weights.numpy()\n",
    "\n",
    "    predicted_id = tf.argmax(predictions[0]).numpy()\n",
    "\n",
    "    result.append(targ_lang.index_word[predicted_id])\n",
    "\n",
    "    # the predicted ID is fed back into the model\n",
    "    dec_input = tf.expand_dims([predicted_id], 0)\n",
    "\n",
    "  return \" \".join(result), sentence, attention_plot"
   ]
  },
  {
   "cell_type": "code",
   "execution_count": 22,
   "metadata": {
    "executionInfo": {
     "elapsed": 437,
     "status": "ok",
     "timestamp": 1606791400031,
     "user": {
      "displayName": "Abhishek Singla",
      "photoUrl": "https://lh3.googleusercontent.com/a-/AOh14GhVGoCwtC_Q8CcnEMN0jHcbx83bPbBDKtuj-9NHvHM=s64",
      "userId": "16778041078956620284"
     },
     "user_tz": 300
    },
    "id": "9DeHG7kVHupP"
   },
   "outputs": [],
   "source": [
    "# function for plotting the attention weights\n",
    "def plot_attention(attention, sentence, predicted_sentence):\n",
    "  fig = plt.figure(figsize=(10,10))\n",
    "  ax = fig.add_subplot(1, 1, 1) \n",
    "  ax.matshow(attention, cmap='viridis')\n",
    "  for (i, j), z in np.ndenumerate(attention):\n",
    "    ax.text(j, i, '{:0.1f}'.format(z), ha='center', va='center')\n",
    "\n",
    "  fontdict = {'fontsize': 14}\n",
    "\n",
    "  ax.set_xticklabels([''] + sentence, fontdict=fontdict, rotation=90)\n",
    "  ax.set_yticklabels([''] + predicted_sentence, fontdict=fontdict)\n",
    "\n",
    "  ax.xaxis.set_major_locator(ticker.MultipleLocator(1))\n",
    "  ax.yaxis.set_major_locator(ticker.MultipleLocator(1))\n",
    "\n",
    "  plt.show()\n"
   ]
  },
  {
   "cell_type": "code",
   "execution_count": 23,
   "metadata": {
    "executionInfo": {
     "elapsed": 792,
     "status": "ok",
     "timestamp": 1606791401834,
     "user": {
      "displayName": "Abhishek Singla",
      "photoUrl": "https://lh3.googleusercontent.com/a-/AOh14GhVGoCwtC_Q8CcnEMN0jHcbx83bPbBDKtuj-9NHvHM=s64",
      "userId": "16778041078956620284"
     },
     "user_tz": 300
    },
    "id": "KEQbteptISr7"
   },
   "outputs": [],
   "source": [
    "def translate(sentence, plot=True, preprocess=False):\n",
    "  result, sentence, attention_plot = evaluate(sentence, preprocess)\n",
    "\n",
    "  if plot==True:\n",
    "    print('Input: %s' % (sentence))\n",
    "    print('Predicted translation: {}'.format(result))\n",
    "\n",
    "    attention_plot = attention_plot[:len(result.split(' ')), :len(sentence.split(' '))]\n",
    "    plot_attention(attention_plot, sentence.split(' '), result.split(' '))\n",
    "\n",
    "  return result\n"
   ]
  },
  {
   "cell_type": "code",
   "execution_count": 28,
   "metadata": {
    "executionInfo": {
     "elapsed": 456,
     "status": "ok",
     "timestamp": 1606791598041,
     "user": {
      "displayName": "Abhishek Singla",
      "photoUrl": "https://lh3.googleusercontent.com/a-/AOh14GhVGoCwtC_Q8CcnEMN0jHcbx83bPbBDKtuj-9NHvHM=s64",
      "userId": "16778041078956620284"
     },
     "user_tz": 300
    },
    "id": "q23pNcHR277T"
   },
   "outputs": [],
   "source": [
    "def jaccard_similarity(candidate, reference):\n",
    "    \"\"\"Returns the Jaccard similarity between two token lists\n",
    "\n",
    "    Args:\n",
    "        candidate (list of int): tokenized version of the candidate translation\n",
    "        reference (list of int): tokenized version of the reference translation\n",
    "\n",
    "    Returns:\n",
    "        float: overlap between the two token lists\n",
    "    \"\"\"\n",
    "    \n",
    "    # convert the lists to a set to get the unique tokens\n",
    "    can_unigram_set, ref_unigram_set = set(candidate), set(reference)  \n",
    "    \n",
    "    # get the set of tokens common to both candidate and reference\n",
    "    joint_elems = can_unigram_set.intersection(ref_unigram_set)\n",
    "    \n",
    "    # get the set of all tokens found in either candidate or reference\n",
    "    all_elems = can_unigram_set.union(ref_unigram_set)\n",
    "    \n",
    "    # divide the number of joint elements by the number of all elements\n",
    "    overlap = len(joint_elems) / len(all_elems)\n",
    "    \n",
    "    return overlap"
   ]
  },
  {
   "cell_type": "code",
   "execution_count": 29,
   "metadata": {
    "executionInfo": {
     "elapsed": 321,
     "status": "ok",
     "timestamp": 1606791605415,
     "user": {
      "displayName": "Abhishek Singla",
      "photoUrl": "https://lh3.googleusercontent.com/a-/AOh14GhVGoCwtC_Q8CcnEMN0jHcbx83bPbBDKtuj-9NHvHM=s64",
      "userId": "16778041078956620284"
     },
     "user_tz": 300
    },
    "id": "gqc4rGZI3EAL"
   },
   "outputs": [],
   "source": [
    "# for making a frequency table easily\n",
    "from collections import Counter\n",
    "\n",
    "def rouge1_similarity(system, reference):\n",
    "    \"\"\"Returns the ROUGE-1 score between two token lists\n",
    "\n",
    "    Args:\n",
    "        system (list of int): tokenized version of the system translation\n",
    "        reference (list of int): tokenized version of the reference translation\n",
    "\n",
    "    Returns:\n",
    "        float: overlap between the two token lists\n",
    "    \"\"\"        \n",
    "    precision, recall, rougel_score = 0, 0, 0\n",
    "    # make a frequency table of the system tokens\n",
    "    sys_counter = Counter(system)\n",
    "    \n",
    "    # make a frequency table of the reference tokens\n",
    "    ref_counter = Counter(reference)\n",
    "    \n",
    "    # initialize overlap to 0\n",
    "    overlap = 0\n",
    "    \n",
    "    # run a for loop over the sys_counter object\n",
    "    for token in sys_counter:\n",
    "        \n",
    "        # lookup the value of the token in the sys_counter dictionary\n",
    "        token_count_sys = sys_counter.get(token,0)\n",
    "        \n",
    "        # lookup the value of the token in the ref_counter dictionary\n",
    "        token_count_ref = ref_counter.get(token,0)\n",
    "        \n",
    "        # update the overlap by getting the smaller number between the two token counts above\n",
    "        overlap += min(token_count_sys, token_count_ref)\n",
    "    \n",
    "    precision = overlap / sum(sys_counter.values())\n",
    "    recall = overlap / sum(ref_counter.values())\n",
    "    \n",
    "    if precision + recall != 0:\n",
    "        # compute the f1-score\n",
    "        rouge1_score = 2 * ((precision * recall)/(precision + recall))\n",
    "    else:\n",
    "        rouge1_score = 0 \n",
    "\n",
    "    return precision, recall, rouge1_score"
   ]
  },
  {
   "cell_type": "code",
   "execution_count": 31,
   "metadata": {
    "executionInfo": {
     "elapsed": 402,
     "status": "ok",
     "timestamp": 1606791626824,
     "user": {
      "displayName": "Abhishek Singla",
      "photoUrl": "https://lh3.googleusercontent.com/a-/AOh14GhVGoCwtC_Q8CcnEMN0jHcbx83bPbBDKtuj-9NHvHM=s64",
      "userId": "16778041078956620284"
     },
     "user_tz": 300
    },
    "id": "I2IYxZv33HX0"
   },
   "outputs": [],
   "source": [
    "def prediction(utterance_data, query_data):\n",
    "  n = len(utterance_data)\n",
    "  pred = []\n",
    "  targets = []\n",
    "  for i in range(n):\n",
    "    actual = []\n",
    "    target = []\n",
    "    for j in utterance_data[i]:\n",
    "      if j not in [0]:\n",
    "        actual.append(inp_lang_tokenizer.index_word[j])\n",
    "    \n",
    "    actual = \" \".join(actual)\n",
    "\n",
    "    for j in query_data[i]:\n",
    "      if j not in [0]:\n",
    "        if targ_lang_tokenizer.index_word[j] not in ['<start>', '<end>']:\n",
    "          target.append(targ_lang_tokenizer.index_word[j])\n",
    "    \n",
    "    targets.append(\" \".join(target))  \n",
    "    pred.append(translate(f\"{actual}\", plot=False))\n",
    "  \n",
    "  return pred, targets\n",
    "\n",
    "def evaluation_metric(pred, target, method='jaccard'):\n",
    "  # print(f\"Utterance: {actual}\")\n",
    "  # print(\"Gold SQL Query: \", target)\n",
    "  # print(\"Predicted SQL Query: \", translate(f\"{actual}\", plot=False) )\n",
    "  scores = []\n",
    "  precisions = []\n",
    "  recalls = []\n",
    "  n = len(pred)\n",
    "  for i in range(n):\n",
    "    if method == 'jaccard':\n",
    "      score = jaccard_similarity(pred[i].split(), target[i].split())\n",
    "    elif method == 'rougel':\n",
    "      precision, recall, score = rouge1_similarity(pred[i].split(), target[i].split())\n",
    "      precisions.append(precision)\n",
    "      recalls.append(recall)\n",
    "    elif method == 'bleu':\n",
    "      score = bleu_score(pred[i].split(), target[i].split())\n",
    "  \n",
    "    scores.append(score)\n",
    "  \n",
    "  if method == 'rougel':\n",
    "    return np.mean(scores), np.mean(precisions), np.mean(recalls)\n",
    "  else:\n",
    "    return np.mean(scores)"
   ]
  },
  {
   "cell_type": "code",
   "execution_count": 32,
   "metadata": {
    "executionInfo": {
     "elapsed": 260680,
     "status": "ok",
     "timestamp": 1606791895014,
     "user": {
      "displayName": "Abhishek Singla",
      "photoUrl": "https://lh3.googleusercontent.com/a-/AOh14GhVGoCwtC_Q8CcnEMN0jHcbx83bPbBDKtuj-9NHvHM=s64",
      "userId": "16778041078956620284"
     },
     "user_tz": 300
    },
    "id": "LspctdFLPpe_"
   },
   "outputs": [],
   "source": [
    "pred_train, targets_train = prediction(input_tensor_train, target_tensor_train)\n",
    "pred_val, targets_val = prediction(input_tensor_val, target_tensor_val)"
   ]
  },
  {
   "cell_type": "code",
   "execution_count": 33,
   "metadata": {
    "executionInfo": {
     "elapsed": 309,
     "status": "ok",
     "timestamp": 1606791898268,
     "user": {
      "displayName": "Abhishek Singla",
      "photoUrl": "https://lh3.googleusercontent.com/a-/AOh14GhVGoCwtC_Q8CcnEMN0jHcbx83bPbBDKtuj-9NHvHM=s64",
      "userId": "16778041078956620284"
     },
     "user_tz": 300
    },
    "id": "QFxLd-Yw3LOr"
   },
   "outputs": [],
   "source": [
    "jaccard_score_train = evaluation_metric(pred_train, targets_train)"
   ]
  },
  {
   "cell_type": "code",
   "execution_count": 34,
   "metadata": {
    "executionInfo": {
     "elapsed": 495,
     "status": "ok",
     "timestamp": 1606791899405,
     "user": {
      "displayName": "Abhishek Singla",
      "photoUrl": "https://lh3.googleusercontent.com/a-/AOh14GhVGoCwtC_Q8CcnEMN0jHcbx83bPbBDKtuj-9NHvHM=s64",
      "userId": "16778041078956620284"
     },
     "user_tz": 300
    },
    "id": "bicHrpnYfFKX"
   },
   "outputs": [],
   "source": [
    "precision_train, recall_train, rougel_score_train = evaluation_metric(pred_train, targets_train, method='rougel')"
   ]
  },
  {
   "cell_type": "code",
   "execution_count": 35,
   "metadata": {
    "executionInfo": {
     "elapsed": 345,
     "status": "ok",
     "timestamp": 1606791900283,
     "user": {
      "displayName": "Abhishek Singla",
      "photoUrl": "https://lh3.googleusercontent.com/a-/AOh14GhVGoCwtC_Q8CcnEMN0jHcbx83bPbBDKtuj-9NHvHM=s64",
      "userId": "16778041078956620284"
     },
     "user_tz": 300
    },
    "id": "zyxKni3OdunD"
   },
   "outputs": [],
   "source": [
    "jaccard_score_val = evaluation_metric(pred_val, targets_val)"
   ]
  },
  {
   "cell_type": "code",
   "execution_count": 36,
   "metadata": {
    "executionInfo": {
     "elapsed": 365,
     "status": "ok",
     "timestamp": 1606791901089,
     "user": {
      "displayName": "Abhishek Singla",
      "photoUrl": "https://lh3.googleusercontent.com/a-/AOh14GhVGoCwtC_Q8CcnEMN0jHcbx83bPbBDKtuj-9NHvHM=s64",
      "userId": "16778041078956620284"
     },
     "user_tz": 300
    },
    "id": "eVS4tqwLetA6"
   },
   "outputs": [],
   "source": [
    "precision_val, recall_val, rougel_score_val = evaluation_metric(pred_val, targets_val, method='rougel')"
   ]
  },
  {
   "cell_type": "code",
   "execution_count": 37,
   "metadata": {
    "executionInfo": {
     "elapsed": 319,
     "status": "ok",
     "timestamp": 1606791902749,
     "user": {
      "displayName": "Abhishek Singla",
      "photoUrl": "https://lh3.googleusercontent.com/a-/AOh14GhVGoCwtC_Q8CcnEMN0jHcbx83bPbBDKtuj-9NHvHM=s64",
      "userId": "16778041078956620284"
     },
     "user_tz": 300
    },
    "id": "VmZc1oAcegmA"
   },
   "outputs": [],
   "source": [
    "def metric_print(precision, recall, rougel_score, jaccard_similarity, text):\n",
    "  print(f'---{text}---')\n",
    "  print(f'Precision: {np.round(precision, 4)}')\n",
    "  print(f'Recall: {np.round(recall, 4)}')\n",
    "  print(f'Rougel Similarity Score: {np.round(rougel_score, 4)}')\n",
    "  print(f'Jaccard Similarity: {np.round(jaccard_similarity, 4)}')\n",
    "  print('\\n')"
   ]
  },
  {
   "cell_type": "code",
   "execution_count": 39,
   "metadata": {
    "colab": {
     "base_uri": "https://localhost:8080/"
    },
    "executionInfo": {
     "elapsed": 748,
     "status": "ok",
     "timestamp": 1606791905266,
     "user": {
      "displayName": "Abhishek Singla",
      "photoUrl": "https://lh3.googleusercontent.com/a-/AOh14GhVGoCwtC_Q8CcnEMN0jHcbx83bPbBDKtuj-9NHvHM=s64",
      "userId": "16778041078956620284"
     },
     "user_tz": 300
    },
    "id": "yW_JLdiAQj_i",
    "outputId": "41ce1422-c309-4601-9825-158b7b2d268e"
   },
   "outputs": [
    {
     "name": "stdout",
     "output_type": "stream",
     "text": [
      "---Evualtion Metrics on Training Dataset: ---\n",
      "Precision: 0.9292\n",
      "Recall: 0.9393\n",
      "Rougel Similarity Score: 0.935\n",
      "Jaccard Similarity: 0.9231\n",
      "\n",
      "\n",
      "---Evualtion Metrics on Validation Dataset: ---\n",
      "Precision: 0.6376\n",
      "Recall: 0.6642\n",
      "Rougel Similarity Score: 0.6656\n",
      "Jaccard Similarity: 0.5665\n",
      "\n",
      "\n"
     ]
    }
   ],
   "source": [
    "metric_print(precision_train, recall_train, rougel_score_train, jaccard_score_train, 'Evualtion Metrics on Training Dataset: ')\n",
    "metric_print(precision_val, recall_val, rougel_score_val, jaccard_score_val, 'Evualtion Metrics on Validation Dataset: ')"
   ]
  },
  {
   "cell_type": "markdown",
   "metadata": {
    "id": "WwOuPKoGTacb"
   },
   "source": [
    "#### Train and Validation Loss Plot"
   ]
  },
  {
   "cell_type": "code",
   "execution_count": 40,
   "metadata": {
    "colab": {
     "base_uri": "https://localhost:8080/",
     "height": 621
    },
    "executionInfo": {
     "elapsed": 676,
     "status": "ok",
     "timestamp": 1606791991574,
     "user": {
      "displayName": "Abhishek Singla",
      "photoUrl": "https://lh3.googleusercontent.com/a-/AOh14GhVGoCwtC_Q8CcnEMN0jHcbx83bPbBDKtuj-9NHvHM=s64",
      "userId": "16778041078956620284"
     },
     "user_tz": 300
    },
    "id": "p7cGrnMRRApG",
    "outputId": "7a0eba8a-d486-4d71-e020-479962afc724"
   },
   "outputs": [
    {
     "data": {
      "image/png": "[encoded data removed]",
      "text/plain": [
       "<Figure size 1440x720 with 1 Axes>"
      ]
     },
     "metadata": {
      "needs_background": "light",
      "tags": []
     },
     "output_type": "display_data"
    }
   ],
   "source": [
    "plt.figure(figsize=(20,10))\n",
    "plt.plot(epoch_train_loss)\n",
    "plt.plot(epoch_val_loss)\n",
    "plt.xlabel('Epoches ------>')\n",
    "plt.ylabel('Loss')\n",
    "plt.legend(['Train Loss', 'Val Loss'], loc='upper right')\n",
    "plt.title('Train and Validation Loss Comparison')\n",
    "plt.show()\n"
   ]
  },
  {
   "cell_type": "markdown",
   "metadata": {
    "id": "RM7zJRGxQ4jO"
   },
   "source": [
    "#### Real World Performance"
   ]
  },
  {
   "cell_type": "code",
   "execution_count": 41,
   "metadata": {
    "colab": {
     "base_uri": "https://localhost:8080/",
     "height": 643
    },
    "executionInfo": {
     "elapsed": 850,
     "status": "ok",
     "timestamp": 1606792095493,
     "user": {
      "displayName": "Abhishek Singla",
      "photoUrl": "https://lh3.googleusercontent.com/a-/AOh14GhVGoCwtC_Q8CcnEMN0jHcbx83bPbBDKtuj-9NHvHM=s64",
      "userId": "16778041078956620284"
     },
     "user_tz": 300
    },
    "id": "43tv-frhRZ-d",
    "outputId": "f5233fe6-b680-42fc-dabc-46e1f4cd07e1"
   },
   "outputs": [
    {
     "name": "stdout",
     "output_type": "stream",
     "text": [
      "Input: <start> how many students are there ? <end>\n",
      "Predicted translation: select count ( * ) from students\n"
     ]
    },
    {
     "data": {
      "image/png": "[encoded data removed]",
      "text/plain": [
       "<Figure size 720x720 with 1 Axes>"
      ]
     },
     "metadata": {
      "needs_background": "light",
      "tags": []
     },
     "output_type": "display_data"
    },
    {
     "data": {
      "application/vnd.google.colaboratory.intrinsic+json": {
       "type": "string"
      },
      "text/plain": [
       "'select count ( * ) from students'"
      ]
     },
     "execution_count": 41,
     "metadata": {
      "tags": []
     },
     "output_type": "execute_result"
    }
   ],
   "source": [
    "translate(\"How many students are there?\", preprocess=True)"
   ]
  },
  {
   "cell_type": "code",
   "execution_count": 42,
   "metadata": {
    "colab": {
     "base_uri": "https://localhost:8080/",
     "height": 704
    },
    "executionInfo": {
     "elapsed": 1384,
     "status": "ok",
     "timestamp": 1606792129334,
     "user": {
      "displayName": "Abhishek Singla",
      "photoUrl": "https://lh3.googleusercontent.com/a-/AOh14GhVGoCwtC_Q8CcnEMN0jHcbx83bPbBDKtuj-9NHvHM=s64",
      "userId": "16778041078956620284"
     },
     "user_tz": 300
    },
    "id": "df7bHB8cRiFJ",
    "outputId": "a46de89c-4122-4f78-d484-777804c13f4c"
   },
   "outputs": [
    {
     "name": "stdout",
     "output_type": "stream",
     "text": [
      "Input: <start> what is the name of a student with minimum age ? <end>\n",
      "Predicted translation: select t1 . age from advisor as t1 join student as t2 on t1 . club_id = t2 . id\n"
     ]
    },
    {
     "data": {
      "image/png": "[encoded data removed]",
      "text/plain": [
       "<Figure size 720x720 with 1 Axes>"
      ]
     },
     "metadata": {
      "needs_background": "light",
      "tags": []
     },
     "output_type": "display_data"
    },
    {
     "data": {
      "application/vnd.google.colaboratory.intrinsic+json": {
       "type": "string"
      },
      "text/plain": [
       "'select t1 . age from advisor as t1 join student as t2 on t1 . club_id = t2 . id'"
      ]
     },
     "execution_count": 42,
     "metadata": {
      "tags": []
     },
     "output_type": "execute_result"
    }
   ],
   "source": [
    "translate(\"What is the name of a student with minimum age?\", preprocess=True)"
   ]
  },
  {
   "cell_type": "code",
   "execution_count": 46,
   "metadata": {
    "colab": {
     "base_uri": "https://localhost:8080/",
     "height": 515
    },
    "executionInfo": {
     "elapsed": 822,
     "status": "ok",
     "timestamp": 1606792259976,
     "user": {
      "displayName": "Abhishek Singla",
      "photoUrl": "https://lh3.googleusercontent.com/a-/AOh14GhVGoCwtC_Q8CcnEMN0jHcbx83bPbBDKtuj-9NHvHM=s64",
      "userId": "16778041078956620284"
     },
     "user_tz": 300
    },
    "id": "GLw23iizRsFz",
    "outputId": "6a50d623-6b3f-491c-a908-dba0ccc0397d"
   },
   "outputs": [
    {
     "name": "stdout",
     "output_type": "stream",
     "text": [
      "Input: <start> what is the minimum age of a student ? <end>\n",
      "Predicted translation: select min ( age ) from student\n"
     ]
    },
    {
     "data": {
      "image/png": "[encoded data removed]",
      "text/plain": [
       "<Figure size 720x720 with 1 Axes>"
      ]
     },
     "metadata": {
      "needs_background": "light",
      "tags": []
     },
     "output_type": "display_data"
    },
    {
     "data": {
      "application/vnd.google.colaboratory.intrinsic+json": {
       "type": "string"
      },
      "text/plain": [
       "'select min ( age ) from student'"
      ]
     },
     "execution_count": 46,
     "metadata": {
      "tags": []
     },
     "output_type": "execute_result"
    }
   ],
   "source": [
    "translate('What is the minimum age of a student?', preprocess=True)"
   ]
  },
  {
   "cell_type": "code",
   "execution_count": null,
   "metadata": {
    "id": "IOmRO0wJRvuy"
   },
   "outputs": [],
   "source": []
  }
 ],
 "metadata": {
  "accelerator": "GPU",
  "colab": {
   "collapsed_sections": [],
   "name": "Capstone Final (Without GloVe).ipynb",
   "provenance": [
    {
     "file_id": "1PDLY8kreWVeAD2uSYDzlMzrybR5HpKe0",
     "timestamp": 1605302438796
    }
   ]
  },
  "kernelspec": {
   "display_name": "Python 3",
   "language": "python",
   "name": "python3"
  },
  "language_info": {
   "codemirror_mode": {
    "name": "ipython",
    "version": 3
   },
   "file_extension": ".py",
   "mimetype": "text/x-python",
   "name": "python",
   "nbconvert_exporter": "python",
   "pygments_lexer": "ipython3",
   "version": "3.6.2"
  }
 },
 "nbformat": 4,
 "nbformat_minor": 1
}
